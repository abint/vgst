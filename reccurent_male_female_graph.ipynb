{
 "cells": [
  {
   "cell_type": "code",
   "execution_count": 3,
   "metadata": {},
   "outputs": [],
   "source": [
    "import pickle\n",
    "import pandas as pd\n",
    "import numpy as np"
   ]
  },
  {
   "cell_type": "code",
   "execution_count": 33,
   "metadata": {},
   "outputs": [],
   "source": [
    "data = pd.read_csv('trheartwithoutna.csv')\n",
    "output_data = data[['DRSISC','DRSH','DRSUNK']]\n",
    "output_data = output_data.values\n",
    "recurrent_stroke=[]\n",
    "for row in output_data:\n",
    "    row = list(row)\n",
    "    try:\n",
    "        if row.index('Y'):\n",
    "            recurrent_stroke.append(1)\n",
    "        else:\n",
    "            recurrent_stroke.append(-1)\n",
    "    except:\n",
    "        recurrent_stroke.append(-1)\n",
    "y = recurrent_stroke\n",
    "\n"
   ]
  },
  {
   "cell_type": "code",
   "execution_count": 39,
   "metadata": {},
   "outputs": [
    {
     "data": {
      "text/plain": [
       "342"
      ]
     },
     "execution_count": 39,
     "metadata": {},
     "output_type": "execute_result"
    }
   ],
   "source": [
    "\n",
    "for row in output_data:\n",
    "    row = list(row)\n",
    "    try:\n",
    "        if row.index('Y'):\n",
    "            count=count+1\n",
    "        else:\n",
    "            count=count\n",
    "    except:\n",
    "        count=count\n",
    "count"
   ]
  },
  {
   "cell_type": "code",
   "execution_count": 16,
   "metadata": {},
   "outputs": [],
   "source": [
    "import matplotlib.pyplot as plt"
   ]
  },
  {
   "cell_type": "code",
   "execution_count": 32,
   "metadata": {},
   "outputs": [
    {
     "name": "stderr",
     "output_type": "stream",
     "text": [
      "C:\\Users\\Thinkpad\\Anaconda3\\lib\\site-packages\\IPython\\core\\interactiveshell.py:2728: DtypeWarning: Columns (31) have mixed types. Specify dtype option on import or set low_memory=False.\n",
      "  interactivity=interactivity, compiler=compiler, result=result)\n"
     ]
    },
    {
     "data": {
      "image/png": "[encoded data removed]",
      "text/plain": [
       "<matplotlib.figure.Figure at 0xe193a57a20>"
      ]
     },
     "metadata": {},
     "output_type": "display_data"
    },
    {
     "data": {
      "image/png": "[encoded data removed]",
      "text/plain": [
       "<matplotlib.figure.Figure at 0xe193acb240>"
      ]
     },
     "metadata": {},
     "output_type": "display_data"
    }
   ],
   "source": [
    "df=pd.read_csv(\"stroke.csv\")\n",
    "req=['SEX','DRSISC','DRSH','DRSUNK']\n",
    "df=df[req]\n",
    "df=df.dropna()\n",
    "df=df['SEX']\n",
    "x=df\n",
    "plt.hist(x)\n",
    "plt.show()\n",
    "plt.hist(y)\n",
    "plt.show()\n"
   ]
  }
 ],
 "metadata": {
  "kernelspec": {
   "display_name": "Python 3",
   "language": "python",
   "name": "python3"
  },
  "language_info": {
   "codemirror_mode": {
    "name": "ipython",
    "version": 3
   },
   "file_extension": ".py",
   "mimetype": "text/x-python",
   "name": "python",
   "nbconvert_exporter": "python",
   "pygments_lexer": "ipython3",
   "version": "3.6.4"
  }
 },
 "nbformat": 4,
 "nbformat_minor": 2
}
