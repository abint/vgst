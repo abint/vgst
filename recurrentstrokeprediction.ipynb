{
 "cells": [
  {
   "cell_type": "code",
   "execution_count": 164,
   "metadata": {},
   "outputs": [],
   "source": [
    "import numpy as np\n",
    "import pandas as pd\n",
    "from sklearn import svm\n",
    "from sklearn.cross_validation import train_test_split\n"
   ]
  },
  {
   "cell_type": "code",
   "execution_count": 165,
   "metadata": {},
   "outputs": [],
   "source": [
    "import timeit\n",
    "import pickle"
   ]
  },
  {
   "cell_type": "code",
   "execution_count": 166,
   "metadata": {},
   "outputs": [
    {
     "name": "stderr",
     "output_type": "stream",
     "text": [
      "C:\\Users\\Thinkpad\\Anaconda3\\lib\\site-packages\\IPython\\core\\interactiveshell.py:2728: DtypeWarning: Columns (31) have mixed types. Specify dtype option on import or set low_memory=False.\n",
      "  interactivity=interactivity, compiler=compiler, result=result)\n"
     ]
    }
   ],
   "source": [
    "df=pd.read_csv(\"stroke.CSV\")\n",
    "required_data=['RSLEEP','RATRIAL','RSBP','RDEF1','RDEF2','RDEF3','RDEF4','RDEF5','RDEF6','RDEF7','RDEF8','DRSISC','DRSH','DRSUNK']\n",
    "df=df[required_data]\n",
    "df.to_csv(\"trainingheart.csv\")\n",
    "x=df\n",
    "x=x.dropna()\n",
    "x = pd.get_dummies(x)\n",
    "\n"
   ]
  },
  {
   "cell_type": "code",
   "execution_count": 167,
   "metadata": {},
   "outputs": [
    {
     "data": {
      "text/plain": [
       "18425"
      ]
     },
     "execution_count": 167,
     "metadata": {},
     "output_type": "execute_result"
    }
   ],
   "source": [
    "req=['DRSISC','DRSH','DRSUNK']\n",
    "sim=df[req]\n",
    "sim=sim.dropna()\n",
    "sim.to_csv(\"trheartwithoutna.csv\")\n",
    "len(sim)"
   ]
  },
  {
   "cell_type": "raw",
   "metadata": {},
   "source": [
    "data = pd.read_csv('trheartwithoutna.csv')\n",
    "output_data = data[['DRSISC','DRSH','DRSUNK']]\n",
    "output_data = output_data.values\n",
    "recurrent_stroke=[]\n",
    "for row in output_data:\n",
    "    row = list(row)\n",
    "    try:\n",
    "        if row.index('Y'):\n",
    "            recurrent_stroke.append(1)\n",
    "        else:\n",
    "            recurrent_stroke.append(-1)\n",
    "    except:\n",
    "        recurrent_stroke.append(-1)\n",
    "y = recurrent_stroke\n",
    "len(y)"
   ]
  },
  {
   "cell_type": "code",
   "execution_count": 187,
   "metadata": {},
   "outputs": [],
   "source": [
    "clf = svm.SVC()\n",
    "x_train, x_test, y_train, y_test = train_test_split(x, y, test_size = 0.3, random_state=2)"
   ]
  },
  {
   "cell_type": "code",
   "execution_count": 188,
   "metadata": {},
   "outputs": [
    {
     "name": "stdout",
     "output_type": "stream",
     "text": [
      "starting training\n",
      "training completed in 4.169712967275473 seconds\n"
     ]
    }
   ],
   "source": [
    "clf = svm.SVC()\n",
    "print (\"starting training\")\n",
    "start_time = timeit.default_timer()\n",
    "model = clf.fit(x_train, y_train)\n",
    "print (\"training completed in %s seconds\"  % (timeit.default_timer() - start_time))"
   ]
  },
  {
   "cell_type": "code",
   "execution_count": 184,
   "metadata": {},
   "outputs": [
    {
     "name": "stdout",
     "output_type": "stream",
     "text": [
      "starting testing\n",
      "Accuracy: \n",
      "99.31259044862519\n",
      "testing completed in 0.6820251565995363 seconds\n"
     ]
    }
   ],
   "source": [
    "#testing our classifier\n",
    "print (\"starting testing\")\n",
    "start_time = timeit.default_timer()\n",
    "print(\"Accuracy: \")\n",
    "print (model.score(x_test, y_test) * 100)\n",
    "print (\"testing completed in %s seconds\"  % (timeit.default_timer() - start_time))"
   ]
  },
  {
   "cell_type": "code",
   "execution_count": 186,
   "metadata": {},
   "outputs": [],
   "source": [
    "# saving the model to file\n",
    "pickle.dump(model, open('svmreccurentstroke.pkl', 'wb'))"
   ]
  }
 ],
 "metadata": {
  "kernelspec": {
   "display_name": "Python 3",
   "language": "python",
   "name": "python3"
  },
  "language_info": {
   "codemirror_mode": {
    "name": "ipython",
    "version": 3
   },
   "file_extension": ".py",
   "mimetype": "text/x-python",
   "name": "python",
   "nbconvert_exporter": "python",
   "pygments_lexer": "ipython3",
   "version": "3.6.4"
  }
 },
 "nbformat": 4,
 "nbformat_minor": 2
}
