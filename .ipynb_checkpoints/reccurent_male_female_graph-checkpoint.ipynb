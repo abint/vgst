{
 "cells": [
  {
   "cell_type": "code",
   "execution_count": 2,
   "metadata": {},
   "outputs": [],
   "source": [
    "import pickle\n",
    "import pandas as pd\n",
    "import numpy as np"
   ]
  },
  {
   "cell_type": "code",
   "execution_count": 37,
   "metadata": {},
   "outputs": [
    {
     "data": {
      "text/plain": [
       "18425"
      ]
     },
     "execution_count": 37,
     "metadata": {},
     "output_type": "execute_result"
    }
   ],
   "source": [
    "data = pd.read_csv('trheartwithoutna.csv')\n",
    "output_data = data[['DRSISC','DRSH','DRSUNK']]\n",
    "output_data = output_data.values\n",
    "recurrent_stroke=[]\n",
    "other_array=[]\n",
    "for row in output_data:\n",
    "    row = list(row)\n",
    "    try:\n",
    "        if row.index('Y'):\n",
    "            recurrent_stroke.append(1)\n",
    "        else:\n",
    "            recurrent_stroke.append(0)\n",
    "    except:\n",
    "        recurrent_stroke.append(0)\n",
    "len(recurrent_stroke)\n",
    "for index in recurrent_stroke:\n",
    "    if index==1:\n",
    "        other_array.append(1)\n",
    "y=other_array"
   ]
  },
  {
   "cell_type": "code",
   "execution_count": null,
   "metadata": {},
   "outputs": [],
   "source": [
    "data = pd.read_csv('trheartwithoutna.csv')\n",
    "output_data = data[['DRSISC','DRSH','DRSUNK']]\n",
    "output_data = output_data.values\n",
    "recurrent_stroke=[]\n",
    "for row in output_data:\n",
    "    row = list(row)\n",
    "    try:\n",
    "        if row.index('Y'):\n",
    "            recurrent_stroke.append(1)\n",
    "        else:\n",
    "            recurrent_stroke.append(-1)\n",
    "    except:\n",
    "        recurrent_stroke.append(-1)\n",
    "y = recurrent_stroke\n",
    "len(y)"
   ]
  },
  {
   "cell_type": "code",
   "execution_count": 46,
   "metadata": {},
   "outputs": [
    {
     "name": "stderr",
     "output_type": "stream",
     "text": [
      "C:\\Users\\Thinkpad\\Anaconda3\\lib\\site-packages\\IPython\\core\\interactiveshell.py:2728: DtypeWarning: Columns (31) have mixed types. Specify dtype option on import or set low_memory=False.\n",
      "  interactivity=interactivity, compiler=compiler, result=result)\n"
     ]
    },
    {
     "data": {
      "text/plain": [
       "['M']"
      ]
     },
     "execution_count": 46,
     "metadata": {},
     "output_type": "execute_result"
    }
   ],
   "source": [
    "df=pd.read_csv('stroke.csv')\n",
    "output_data = df[['SEX']]\n",
    "output_data = output_data.values\n",
    "sex_rec=[]\n",
    "for row in output_data:\n",
    "    row=list(row)\n",
    "    try:\n",
    "        if row.index('F'):\n",
    "             sex_rec.append(1)\n",
    "        else:\n",
    "            sex_rec.append(0)\n",
    "    except:\n",
    "        sex_rec.append(0)\n"
   ]
  },
  {
   "cell_type": "code",
   "execution_count": 5,
   "metadata": {},
   "outputs": [],
   "source": [
    "import matplotlib.pyplot as plt"
   ]
  },
  {
   "cell_type": "code",
   "execution_count": 64,
   "metadata": {},
   "outputs": [
    {
     "name": "stdout",
     "output_type": "stream",
     "text": [
      "SEX  DRSISC\n",
      "F    N         0.986106\n",
      "     Y         0.013556\n",
      "     U         0.000338\n",
      "M    N         0.986043\n",
      "     Y         0.013369\n",
      "     U         0.000588\n",
      "dtype: float64\n",
      "SEX  DRSUNK\n",
      "F    N         0.983818\n",
      "     Y         0.015832\n",
      "     U         0.000349\n",
      "M    N         0.986786\n",
      "     Y         0.012604\n",
      "     U         0.000610\n",
      "Name: DRSUNK, dtype: float64\n",
      "SEX  DRSH\n",
      "F    N       0.995343\n",
      "     Y       0.004324\n",
      "     U       0.000333\n",
      "M    N       0.993847\n",
      "     Y       0.005576\n",
      "     U       0.000577\n",
      "Name: DRSH, dtype: float64\n"
     ]
    },
    {
     "name": "stderr",
     "output_type": "stream",
     "text": [
      "C:\\Users\\Thinkpad\\Anaconda3\\lib\\site-packages\\IPython\\core\\interactiveshell.py:2728: DtypeWarning: Columns (31) have mixed types. Specify dtype option on import or set low_memory=False.\n",
      "  interactivity=interactivity, compiler=compiler, result=result)\n"
     ]
    },
    {
     "data": {
      "text/plain": [
       "SEX  DRSISC\n",
       "F    N         0.979155\n",
       "     Y         0.020512\n",
       "     U         0.000333\n",
       "M    N         0.977496\n",
       "     Y         0.021927\n",
       "     U         0.000577\n",
       "Name: DRSISC, dtype: float64"
      ]
     },
     "execution_count": 64,
     "metadata": {},
     "output_type": "execute_result"
    }
   ],
   "source": [
    "df=pd.read_csv(\"stroke.csv\")\n",
    "df1=df.groupby('SEX')['DRSISC'].value_counts()/df.groupby('SEX')['DRSISC'].count()\n",
    "df2=df.groupby('SEX')['DRSH'].value_counts()/df.groupby('SEX')['DRSH'].count()\n",
    "df3=df.groupby('SEX')['DRSUNK'].value_counts()/df.groupby('SEX')['DRSUNK'].count()\n",
    "dfout=df1+df2+df3\n",
    "print (dfout/3)\n",
    "print(df3)\n",
    "print(df2)\n",
    "df1\n"
   ]
  }
 ],
 "metadata": {
  "kernelspec": {
   "display_name": "Python 3",
   "language": "python",
   "name": "python3"
  },
  "language_info": {
   "codemirror_mode": {
    "name": "ipython",
    "version": 3
   },
   "file_extension": ".py",
   "mimetype": "text/x-python",
   "name": "python",
   "nbconvert_exporter": "python",
   "pygments_lexer": "ipython3",
   "version": "3.6.4"
  }
 },
 "nbformat": 4,
 "nbformat_minor": 2
}
