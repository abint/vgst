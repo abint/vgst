{
 "cells": [
  {
   "cell_type": "code",
   "execution_count": 2,
   "metadata": {},
   "outputs": [],
   "source": [
    "import pandas as pd\n",
    "import numpy as np\n"
   ]
  },
  {
   "cell_type": "code",
   "execution_count": 20,
   "metadata": {},
   "outputs": [
    {
     "name": "stdout",
     "output_type": "stream",
     "text": [
      "  Discharge Date Date of Starting Treatment  \\\n",
      "0       23-04-12                   10-02-12   \n",
      "1       23-04-12                   03-02-12   \n",
      "2       24-04-12                   26-03-12   \n",
      "3       24-04-12                   16-02-12   \n",
      "4       26-04-12                   02-03-12   \n",
      "\n",
      "                                     Address   Age Gender  \\\n",
      "0  Erni House, koyla post, arlagrama bantwal  44.0      M   \n",
      "1           Bhatnagar, Thokottu, Ullala Post  40.0      M   \n",
      "2                   Kangure House, Kinnigoli  63.0      M   \n",
      "3                         KC Road, Tallapadi  38.0      F   \n",
      "4                Bendigal Jali Road, Bhatkal  40.0      M   \n",
      "\n",
      "  Sputum Examination Date   DMC      Result P/EP Type Category   Status  \n",
      "0                04-02-12   KMC    Negative    P  NaN        2      NaN  \n",
      "1                01-02-12  TBSM  3 positive    P  NaN        2      NaN  \n",
      "2                23-02-12   KMC           1    P    N        1      NaN  \n",
      "3                     NaN   NaN         NaN  NaN  NaN      NaN  Expired  \n",
      "4                29-02-12   KMC  3 positive    P    N        1      NaN  \n"
     ]
    }
   ],
   "source": [
    "data=pd.read_csv(\"vgst/vamanjur/TBHospitalVamajurdata.csv\")\n",
    "data.head()\n",
    "agedata=data[[\"Age\",\"Gender\"]]\n",
    "agedata.head()\n",
    "print(data.head())\n",
    "\n"
   ]
  },
  {
   "cell_type": "code",
   "execution_count": 13,
   "metadata": {},
   "outputs": [],
   "source": [
    "import matplotlib.pyplot as plt\n"
   ]
  },
  {
   "cell_type": "code",
   "execution_count": 52,
   "metadata": {},
   "outputs": [],
   "source": [
    "counts = agedata.groupby('Age')['Gender'].count()\n"
   ]
  },
  {
   "cell_type": "code",
   "execution_count": 54,
   "metadata": {},
   "outputs": [
    {
     "data": {
      "image/png": "[encoded data removed]",
      "text/plain": [
       "<matplotlib.figure.Figure at 0xd2ec94e0f0>"
      ]
     },
     "metadata": {},
     "output_type": "display_data"
    }
   ],
   "source": [
    "counts.plot.bar(subplots=True)\n",
    "plt.show()"
   ]
  },
  {
   "cell_type": "code",
   "execution_count": null,
   "metadata": {},
   "outputs": [],
   "source": []
  },
  {
   "cell_type": "code",
   "execution_count": null,
   "metadata": {},
   "outputs": [],
   "source": []
  }
 ],
 "metadata": {
  "kernelspec": {
   "display_name": "Python 3",
   "language": "python",
   "name": "python3"
  },
  "language_info": {
   "codemirror_mode": {
    "name": "ipython",
    "version": 3
   },
   "file_extension": ".py",
   "mimetype": "text/x-python",
   "name": "python",
   "nbconvert_exporter": "python",
   "pygments_lexer": "ipython3",
   "version": "3.6.4"
  }
 },
 "nbformat": 4,
 "nbformat_minor": 2
}
